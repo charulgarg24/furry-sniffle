{
 "cells": [
  {
   "cell_type": "markdown",
   "id": "edef396c",
   "metadata": {},
   "source": [
    "1. Why are functions advantageous to have in your programs?\n",
    "\n",
    "function reduce the  need for duplicate codes. by use of function we can use a code multiple times, this make programmme\n",
    "shorter easier to read and easirt to upgrade."
   ]
  },
  {
   "cell_type": "markdown",
   "id": "b3615a32",
   "metadata": {},
   "source": [
    "2. When does the code in a function run: when it's specified or when it's called?\n",
    "\n",
    "When a function is \"called\" the program \"leaves\" the current section of code and begins to execute the first line inside the function."
   ]
  },
  {
   "cell_type": "markdown",
   "id": "f8089672",
   "metadata": {},
   "source": [
    "3. What statement creates a function?\n",
    "\n",
    "a function is created by using def keyword and followed by choosing a name for function,followed by a parentheses , and we can pass parameter inside this parentheses"
   ]
  },
  {
   "cell_type": "markdown",
   "id": "67fb319f",
   "metadata": {},
   "source": [
    "4. What is the difference between a function and a function call?\n",
    "\n",
    "\n",
    "A function is a block of code that does a particular operation and returns a result. It usually accepts inputs as parameters and returns a result. The parameters are not mandatory.\n",
    "\n",
    "E.g:\n",
    "Function add(a,b)\n",
    "return a+ b\n",
    "\n",
    "A function call is the code used to pass control to a function.\n",
    "\n",
    "E.g.:\n",
    "\n",
    "b = add(5,6)\n",
    "\n",
    "Now b will have the value 11."
   ]
  },
  {
   "cell_type": "markdown",
   "id": "a7e25d53",
   "metadata": {},
   "source": [
    "5. How many global scopes are there in a Python program? How many local scopes?\n",
    "\n",
    "\n",
    "There's only one global Python scope per program execution.This scope remains in existence until the program terminates and all its names are forgotten\n",
    "\n",
    "When you use an unqualified name inside a function, Python searches three scopes—the local (L), then the global (G), and then the built-in (B)—and stops at the first place the name is found.\n"
   ]
  },
  {
   "cell_type": "markdown",
   "id": "4bf960b8",
   "metadata": {},
   "source": [
    "6. What happens to variables in a local scope when the function call returns?\n",
    "\n",
    "A local variable retains its value until the next time the function is called A local variable becomes undefined after the function call completes. The local variable can be used outside the function any time after the function call completes.\n"
   ]
  },
  {
   "cell_type": "markdown",
   "id": "5227eba6",
   "metadata": {},
   "source": [
    "7. What is the concept of a return value? Is it possible to have a return value in an expression?\n",
    "\n",
    "the value that return by a function when it's execution is complete.\n",
    "Since return_42() returns a numeric value, you can use that value in a math expression or any other kind of expression in which the value has a logical or coherent meaning. This is how a caller code can take advantage of a function's return value.\n"
   ]
  },
  {
   "cell_type": "markdown",
   "id": "3253d6b3",
   "metadata": {},
   "source": [
    "8. If a function does not have a return statement, what is the return value of a call to that function?\n",
    "\n",
    "If a function doesn't specify a return value, it returns None ."
   ]
  },
  {
   "cell_type": "markdown",
   "id": "4aed56ad",
   "metadata": {},
   "source": [
    "9. How do you make a function variable refer to the global variable?\n",
    "\n",
    "to make a function variable as a global , use the global keyword before the name of variable, and then your variable become global\n"
   ]
  },
  {
   "cell_type": "markdown",
   "id": "bcaaa34a",
   "metadata": {},
   "source": [
    "10.What is data type of none?\n",
    "\n",
    "None is a data type of its own (NoneType),"
   ]
  },
  {
   "cell_type": "markdown",
   "id": "99c9cab6",
   "metadata": {},
   "source": [
    "11. What does the sentence import areallyourpetsnamederic do?\n",
    "\n",
    "That import statement imports a module named areallyourpetsnamederic.\n"
   ]
  },
  {
   "cell_type": "markdown",
   "id": "a9fa65a2",
   "metadata": {},
   "source": [
    "12. If you had a bacon() feature in a spam module, what would you call it after importing spam?\n",
    "\n",
    "This function can be called with spam. bacon()."
   ]
  },
  {
   "cell_type": "markdown",
   "id": "c344973d",
   "metadata": {},
   "source": [
    "13. What can you do to save a programme from crashing if it encounters an error?\n",
    "\n",
    "When it encounters an error, the control is passed to the except block, skipping the code in between.   move our code inside a try and except statement. Try running the program and it should throw an error message instead of crashing the program."
   ]
  },
  {
   "cell_type": "markdown",
   "id": "36c566bd",
   "metadata": {},
   "source": [
    "14. What is the purpose of the try clause? What is the purpose of the except clause?\n",
    "\n",
    "The try block lets you test a block of code for errors. The except block lets you handle the error."
   ]
  },
  {
   "cell_type": "markdown",
   "id": "38bb6f40",
   "metadata": {},
   "source": []
  }
 ],
 "metadata": {
  "kernelspec": {
   "display_name": "Python 3",
   "language": "python",
   "name": "python3"
  },
  "language_info": {
   "codemirror_mode": {
    "name": "ipython",
    "version": 3
   },
   "file_extension": ".py",
   "mimetype": "text/x-python",
   "name": "python",
   "nbconvert_exporter": "python",
   "pygments_lexer": "ipython3",
   "version": "3.8.8"
  }
 },
 "nbformat": 4,
 "nbformat_minor": 5
}
