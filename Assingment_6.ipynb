{
 "cells": [
  {
   "cell_type": "markdown",
   "id": "63afe173",
   "metadata": {},
   "source": [
    "1. What are escape characters, and how do you use them?\n",
    "\n",
    "To insert characters that are illegal in a string, use an escape character. An escape character is a backslash \\ followed by the character you want to insert."
   ]
  },
  {
   "cell_type": "markdown",
   "id": "d1ffc299",
   "metadata": {},
   "source": [
    "2. What do the escape characters n and t stand for?\n",
    "\n",
    "\\t” is a tab, “\\n” is a new line."
   ]
  },
  {
   "cell_type": "markdown",
   "id": "9d5954da",
   "metadata": {},
   "source": [
    "3. What is the way to include backslash characters in a string?\n",
    "\n",
    "Use the syntax \"\\\\\" within the string literal to represent a single backslash."
   ]
  },
  {
   "cell_type": "markdown",
   "id": "4c3d1797",
   "metadata": {},
   "source": [
    "4. The string \"Howl's Moving Castle\" is a correct value. Why isn't the single quote character in the word Howl's not escaped a problem?\n",
    "\n",
    "The single quote in Howl's is fine because you've used double quotes to mark the beginning and end of the string. "
   ]
  },
  {
   "cell_type": "markdown",
   "id": "4bf6b886",
   "metadata": {},
   "source": [
    "5. How do you write a string of newlines if you don't want to use the n character?\n",
    "\n",
    "if we customize the value of end and set it to \" \"\n"
   ]
  },
  {
   "cell_type": "markdown",
   "id": "bc3a9015",
   "metadata": {},
   "source": [
    "6. What are the values of the given expressions?\n",
    "\n",
    "'Hello,world!'[1] = 'e'\n",
    "\n",
    "'Hello,world!'[0:5] = 'Hello'\n",
    "\n",
    "'Hello,world!'[:5]  = 'Hello'\n",
    "\n",
    "'Hello,world!'[3:]  = 'lo,world!'"
   ]
  },
  {
   "cell_type": "markdown",
   "id": "9e772e68",
   "metadata": {},
   "source": [
    "7. What are the values of the following expressions?\n",
    "\n",
    "\"Hello\".upper() = 'HELLO'\n",
    "\n",
    "\"Hello\".upper().isupper() = True\n",
    "\n",
    "\"Hello\".upper().lowwer() = 'hello'"
   ]
  },
  {
   "cell_type": "markdown",
   "id": "95d636c7",
   "metadata": {},
   "source": [
    "8. What are the values of the following expressions?\n",
    "\n",
    "'Remember,remember,the fifth of july.'.split() =['Remember,remember,the', 'fifth', 'of', 'july.']\n",
    "\n",
    "'_'.join('Ther can be only one.'.split()) = 'Ther_can_be_only_one.'"
   ]
  },
  {
   "cell_type": "markdown",
   "id": "44fc3a6f",
   "metadata": {},
   "source": [
    "9. What are the methods for right-justifying, left-justifying, and centering a string?\n",
    "\n",
    "Python String | ljust(), rjust(), center()\n",
    "\n",
    "These functions respectively left-justify, right-justify and center a string in a field of given width"
   ]
  },
  {
   "cell_type": "markdown",
   "id": "42daa16c",
   "metadata": {},
   "source": [
    "10. What is the best way to remove whitespace characters from the start or end?\n",
    "\n",
    "Trim() removes all whitespace from the beginning and end of a string.\n"
   ]
  },
  {
   "cell_type": "code",
   "execution_count": null,
   "id": "468d3c0e",
   "metadata": {},
   "outputs": [],
   "source": []
  }
 ],
 "metadata": {
  "kernelspec": {
   "display_name": "Python 3",
   "language": "python",
   "name": "python3"
  },
  "language_info": {
   "codemirror_mode": {
    "name": "ipython",
    "version": 3
   },
   "file_extension": ".py",
   "mimetype": "text/x-python",
   "name": "python",
   "nbconvert_exporter": "python",
   "pygments_lexer": "ipython3",
   "version": "3.8.8"
  }
 },
 "nbformat": 4,
 "nbformat_minor": 5
}
