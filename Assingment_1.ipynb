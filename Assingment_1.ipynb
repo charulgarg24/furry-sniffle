{
 "cells": [
  {
   "cell_type": "markdown",
   "id": "23c4e3e0",
   "metadata": {},
   "source": [
    "1. In the below elements which of them are values or an expression? eg:- values can be integer or string and expressions will be mathematical operators.\n",
    "*\n",
    "'hello'\n",
    "-87.8\n",
    "-\n",
    "/\n",
    "+\n",
    "6\n",
    "\n",
    "\n",
    "\n",
    "\n",
    "\n",
    "\n",
    "\n",
    "\n",
    "\n",
    "sol- value are 'hello',-87.8,6\n",
    "     expression are - *,-,/,+"
   ]
  },
  {
   "cell_type": "markdown",
   "id": "08dc647a",
   "metadata": {},
   "source": [
    "2. What is the difference between string and variable?\n",
    "\n",
    "\n",
    "A variable is basically the name of the location in the primary memory of your computer.\n",
    "A Variable is a store of information, and a String is a type of information you would store in a Variable. A String is usually words, enclosed with \"\"\n",
    "\n",
    "Eg\n",
    "String x =\"Welcome to SoloLearn\"\n",
    "X is the Variable, and we declared it as a String, use the single = to assign the text to it.\n"
   ]
  },
  {
   "cell_type": "markdown",
   "id": "9ba26c6a",
   "metadata": {},
   "source": [
    "3. Describe three different data types.\n",
    "\n",
    "\n",
    "\n",
    "1.CHAR\n",
    "CHAR(size)\n",
    "Fixed-length character string having maximum length size bytes.\n",
    "\n",
    "2.FLOAT\n",
    "FLOAT[(n)]\n",
    "Approximate number that requires eight bytes with optional minimum required binary precision of n (24 to 53).\n",
    "\n",
    "3.Int\n",
    "The INTEGER data type stores whole numbers that range from -2,147,483,647 to 2,147,483,647 for 9 or 10 digits of precision."
   ]
  },
  {
   "cell_type": "markdown",
   "id": "13f11c41",
   "metadata": {},
   "source": [
    "4. What is an expression made up of? What do all expressions do?\n",
    "\n",
    "\n",
    "\n",
    "An expression is a combination of operators and operands that is interpreted to produce some other value. \n",
    "In any programming language, an expression is evaluated as per the precedence of its operators."
   ]
  },
  {
   "cell_type": "markdown",
   "id": "dfc5aeaa",
   "metadata": {},
   "source": [
    "5. This assignment statements, like spam = 10. What is the difference between an\n",
    "expression and a statement?\n",
    "\n",
    "\n",
    "Expression is made up of values, containers, and mathematical operators (operands) and the statement is just like a command that a python interpreter executes like print."
   ]
  },
  {
   "cell_type": "markdown",
   "id": "5101511e",
   "metadata": {},
   "source": [
    "6. After running the following code, what does the variable bacon contain?\n",
    "\n",
    "bacon = 22\n",
    "bacon + 1\n",
    "\n",
    "bacon=23"
   ]
  },
  {
   "cell_type": "markdown",
   "id": "5f059a07",
   "metadata": {},
   "source": [
    "7. What should the values of the following two terms be?\n",
    "spam+spamspam\n",
    "spam * 3\n",
    "\n",
    "\n",
    "Both expressions evaluate to the string 'spamspamspam'"
   ]
  },
  {
   "cell_type": "markdown",
   "id": "260d9c9c",
   "metadata": {},
   "source": [
    "8. Why is eggs a valid variable name while 100 is invalid?\n",
    "\n",
    "\n",
    "variable cannot begain with a no."
   ]
  },
  {
   "cell_type": "markdown",
   "id": "2405f74d",
   "metadata": {},
   "source": [
    "9. What three functions can be used to get the integer, floating-point number, or string\n",
    "version of a value?\n",
    "\n",
    "The int(), float(), and str() functions will evaluate to the integer, floating-point number, \n",
    "and string versions of the value passed to them"
   ]
  },
  {
   "cell_type": "markdown",
   "id": "42b5cc19",
   "metadata": {},
   "source": [
    "10. Why does this expression cause an error? How can you fix it?\n",
    "'I have eaten' + 99 +  'burritos.'\n",
    "\n",
    "\n",
    "The expression causes an error because 99 is an integer, and only strings can be concatenated to other strings with the + operator. \n",
    "\n",
    "The correct way is I have eaten ' + str(99) + ' burritos.'."
   ]
  },
  {
   "cell_type": "code",
   "execution_count": null,
   "id": "f29547dd",
   "metadata": {},
   "outputs": [],
   "source": []
  }
 ],
 "metadata": {
  "kernelspec": {
   "display_name": "Python 3",
   "language": "python",
   "name": "python3"
  },
  "language_info": {
   "codemirror_mode": {
    "name": "ipython",
    "version": 3
   },
   "file_extension": ".py",
   "mimetype": "text/x-python",
   "name": "python",
   "nbconvert_exporter": "python",
   "pygments_lexer": "ipython3",
   "version": "3.8.8"
  }
 },
 "nbformat": 4,
 "nbformat_minor": 5
}
