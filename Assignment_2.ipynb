{
 "cells": [
  {
   "cell_type": "markdown",
   "id": "79df629b",
   "metadata": {},
   "source": [
    "1.What are the two values of the Boolean data type? How do you write them?\n",
    "\n",
    "    boolean can have two values: true and false.Boolean expressions use relational and logical operators. The result of a Boolean expression is either true or false."
   ]
  },
  {
   "cell_type": "markdown",
   "id": "f4dd5717",
   "metadata": {},
   "source": [
    "2. What are the three different types of Boolean operators?\n",
    "\n",
    "     The three basic boolean operators are: AND, OR, and NOT."
   ]
  },
  {
   "cell_type": "markdown",
   "id": "b7a515da",
   "metadata": {},
   "source": [
    "3. Make a list of each Boolean operator's truth tables (i.e. every possible combination of Boolean\n",
    "values for the operator and what it evaluate ).\n",
    "\n"
   ]
  },
  {
   "cell_type": "markdown",
   "id": "5b383468",
   "metadata": {},
   "source": [
    "4. What are the values of the following expressions?\n"
   ]
  },
  {
   "cell_type": "code",
   "execution_count": 2,
   "id": "00ac4473",
   "metadata": {},
   "outputs": [
    {
     "data": {
      "text/plain": [
       "False"
      ]
     },
     "execution_count": 2,
     "metadata": {},
     "output_type": "execute_result"
    }
   ],
   "source": [
    "(5 >4) and (3 == 5) ## it will true if both condition in true"
   ]
  },
  {
   "cell_type": "code",
   "execution_count": 3,
   "id": "949b0ed7",
   "metadata": {},
   "outputs": [
    {
     "data": {
      "text/plain": [
       "False"
      ]
     },
     "execution_count": 3,
     "metadata": {},
     "output_type": "execute_result"
    }
   ],
   "source": [
    "not (5 > 4)"
   ]
  },
  {
   "cell_type": "code",
   "execution_count": 4,
   "id": "ad7ffaed",
   "metadata": {},
   "outputs": [
    {
     "data": {
      "text/plain": [
       "True"
      ]
     },
     "execution_count": 4,
     "metadata": {},
     "output_type": "execute_result"
    }
   ],
   "source": [
    "(5 > 4) or (3 == 5)"
   ]
  },
  {
   "cell_type": "code",
   "execution_count": 5,
   "id": "1b58f713",
   "metadata": {},
   "outputs": [
    {
     "data": {
      "text/plain": [
       "False"
      ]
     },
     "execution_count": 5,
     "metadata": {},
     "output_type": "execute_result"
    }
   ],
   "source": [
    "not ((5 > 4) or (3 == 5))"
   ]
  },
  {
   "cell_type": "markdown",
   "id": "529532ee",
   "metadata": {},
   "source": [
    "(True and True) and (True == False)"
   ]
  },
  {
   "cell_type": "code",
   "execution_count": 7,
   "id": "40378e68",
   "metadata": {},
   "outputs": [
    {
     "data": {
      "text/plain": [
       "True"
      ]
     },
     "execution_count": 7,
     "metadata": {},
     "output_type": "execute_result"
    }
   ],
   "source": [
    "(not False) or (not True)"
   ]
  },
  {
   "cell_type": "markdown",
   "id": "8a3d3181",
   "metadata": {},
   "source": [
    "5. What are the six comparison operators?\n",
    "\n",
    "There are six main comparison operators: equal to(==), not equal to(!=), greater than(>), greater than or equal to(>=), less than(<), and less than or equal to(<=)."
   ]
  },
  {
   "cell_type": "markdown",
   "id": "e048c68a",
   "metadata": {},
   "source": [
    "6. How do you tell the difference between the equal to and assignment operators?Describe a\n",
    "condition and when you would use one.\n",
    "\n",
    "assingment opearator(=) is used to asssing value of right variable into left, equal opearator(==) is used to chekc wheather left and right variable are equL or not  If so, it returns true. Otherwise it returns false let understand by example"
   ]
  },
  {
   "cell_type": "code",
   "execution_count": 8,
   "id": "4e1ea2ba",
   "metadata": {},
   "outputs": [
    {
     "name": "stdout",
     "output_type": "stream",
     "text": [
      "30\n",
      "30\n"
     ]
    }
   ],
   "source": [
    "##it is an example of assingment operator\n",
    "a=10\n",
    "b=20\n",
    "x=(a+b) ##in this sum of a+b will be assign to x\n",
    "y=x ## in this value of x will be assign to y\n",
    "print(x)\n",
    "print(y)"
   ]
  },
  {
   "cell_type": "code",
   "execution_count": 11,
   "id": "6fbb7247",
   "metadata": {},
   "outputs": [
    {
     "name": "stdout",
     "output_type": "stream",
     "text": [
      "True\n"
     ]
    }
   ],
   "source": [
    " ## it is an example of equal opearator\n",
    "x=10;\n",
    "y=10;\n",
    "if(x==y): ## it si an equal operator\n",
    "    print(\"True\")\n",
    "\n",
    "else:\n",
    "    print(\"False\")"
   ]
  },
  {
   "cell_type": "markdown",
   "id": "f15892b8",
   "metadata": {},
   "source": [
    "7. Identify the three blocks in this code:"
   ]
  },
  {
   "cell_type": "code",
   "execution_count": 14,
   "id": "d80470d0",
   "metadata": {},
   "outputs": [
    {
     "name": "stdout",
     "output_type": "stream",
     "text": [
      "ham\n",
      "spam\n",
      "spam\n"
     ]
    }
   ],
   "source": [
    "spam = 0\n",
    "if spam == 10: ## if contain always true statement if condition in if is true then it will print eggs\n",
    "    print('eggs')\n",
    "if spam > 5: ## if condition od above if is false then it will check this if statement it it is thue then it willl print bacon\n",
    "    print('bacon')\n",
    "else:  ## if above 2 condition is false then it will print ham,spam,spam\n",
    "    print('ham')\n",
    "    print('spam')\n",
    "    print('spam')"
   ]
  },
  {
   "cell_type": "markdown",
   "id": "8835e501",
   "metadata": {},
   "source": [
    "8. Write code that prints Hello if 1 is stored in spam, prints Howdy if 2 is stored in spam, and prints\n",
    "Greetings! if anything else is stored in spam."
   ]
  },
  {
   "cell_type": "code",
   "execution_count": 15,
   "id": "12c67750",
   "metadata": {},
   "outputs": [
    {
     "name": "stdout",
     "output_type": "stream",
     "text": [
      "Greetings!\n"
     ]
    }
   ],
   "source": [
    "spam=0\n",
    "if spam==1:\n",
    "    print(\"Hello\")\n",
    "if spam==2:\n",
    "    print(\"Howdy\")\n",
    "else:\n",
    "    print(\"Greetings!\")"
   ]
  },
  {
   "cell_type": "markdown",
   "id": "efd4fea0",
   "metadata": {},
   "source": [
    "9.If your programme is stuck in an endless loop, what keys you’ll press?\n",
    "\n",
    "if we want to terminate an infinite loop in Turbo C if the break key is not available then use Ctrl+C."
   ]
  },
  {
   "cell_type": "markdown",
   "id": "82e6c927",
   "metadata": {},
   "source": [
    "10. How can you tell the difference between break and continue?   \n",
    "\n",
    "break statement is used in switch and loops, continue statement is used in loops only.\n",
    "The break statement ends the loop immediately when it is encountered.\n",
    "The continue statement skips the current iteration of the loop and continues with the next iteration."
   ]
  },
  {
   "cell_type": "markdown",
   "id": "80d8d8e8",
   "metadata": {},
   "source": [
    "11. In a for loop, what is the difference between range(10), range(0, 10), and range(0, 10, 1)?\n",
    "\n",
    "range(10)  function returns a sequence of numbers, starting from 0 by default, and increments by 1 (by default), and stops before a specified number means till 9. it takes only stop argument.\n",
    "\n",
    "range(0,10)  function returns a sequence of numbers, it contain both start and end argument means we can start our range from particular point and increments by 1 (by default).\n",
    "\n",
    "range(0,10,1) function returns a sequence of numbers, it contain start and end ,step argument which means srting no. eneding no.  of range andd we can specify the no of step between each no. of range.\n",
    "\n"
   ]
  },
  {
   "cell_type": "code",
   "execution_count": 3,
   "id": "23663a57",
   "metadata": {},
   "outputs": [
    {
     "data": {
      "text/plain": [
       "range(0, 10)"
      ]
     },
     "execution_count": 3,
     "metadata": {},
     "output_type": "execute_result"
    }
   ],
   "source": [
    "range(0,10,1)"
   ]
  },
  {
   "cell_type": "markdown",
   "id": "94874218",
   "metadata": {},
   "source": [
    "12. Write a short program that prints the numbers 1 to 10 using a for loop. Then write an equivalent\n",
    "program that prints the numbers 1 to 10 using a while loop.\n"
   ]
  },
  {
   "cell_type": "code",
   "execution_count": 5,
   "id": "2399eb45",
   "metadata": {},
   "outputs": [
    {
     "name": "stdout",
     "output_type": "stream",
     "text": [
      "1\n",
      "2\n",
      "3\n",
      "4\n",
      "5\n",
      "6\n",
      "7\n",
      "8\n",
      "8\n",
      "10\n"
     ]
    }
   ],
   "source": [
    "n=[1,2,3,4,5,6,7,8,8,10]\n",
    "for i in n:\n",
    "    print(i)"
   ]
  },
  {
   "cell_type": "code",
   "execution_count": 15,
   "id": "5a706cd0",
   "metadata": {},
   "outputs": [
    {
     "name": "stdout",
     "output_type": "stream",
     "text": [
      "1\n",
      "2\n",
      "3\n",
      "4\n",
      "5\n",
      "6\n",
      "7\n",
      "8\n",
      "9\n",
      "10\n"
     ]
    }
   ],
   "source": [
    "for i in range(1,11):\n",
    "    print(i)\n"
   ]
  },
  {
   "cell_type": "code",
   "execution_count": 16,
   "id": "46879042",
   "metadata": {},
   "outputs": [
    {
     "name": "stdout",
     "output_type": "stream",
     "text": [
      "1\n",
      "2\n",
      "3\n",
      "4\n",
      "5\n",
      "6\n",
      "7\n",
      "8\n",
      "9\n",
      "10\n"
     ]
    }
   ],
   "source": [
    "i = 1\n",
    "while(i<=10):\n",
    "    print(i)\n",
    "    i += 1"
   ]
  },
  {
   "cell_type": "markdown",
   "id": "d08abf2f",
   "metadata": {},
   "source": [
    "13. If you had a bacon() feature in a spam module, what would you call it after importing spam?\n",
    "\n",
    "This function can be called with spam. bacon()."
   ]
  },
  {
   "cell_type": "code",
   "execution_count": null,
   "id": "dee27e5f",
   "metadata": {},
   "outputs": [],
   "source": []
  }
 ],
 "metadata": {
  "kernelspec": {
   "display_name": "Python 3",
   "language": "python",
   "name": "python3"
  },
  "language_info": {
   "codemirror_mode": {
    "name": "ipython",
    "version": 3
   },
   "file_extension": ".py",
   "mimetype": "text/x-python",
   "name": "python",
   "nbconvert_exporter": "python",
   "pygments_lexer": "ipython3",
   "version": "3.8.8"
  }
 },
 "nbformat": 4,
 "nbformat_minor": 5
}
